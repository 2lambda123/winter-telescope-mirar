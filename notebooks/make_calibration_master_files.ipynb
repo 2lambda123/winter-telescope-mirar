{
 "cells": [
  {
   "cell_type": "code",
   "execution_count": 1,
   "id": "f564d98b",
   "metadata": {},
   "outputs": [],
   "source": [
    "from astropy.io import fits\n",
    "from astropy.wcs import WCS\n",
    "from astropy.stats import sigma_clipped_stats\n",
    "from glob import glob\n",
    "import os\n",
    "import subprocess\n",
    "import warnings\n",
    "import numpy as np\n",
    "import logging\n",
    "import sys\n",
    "from winterdrp import preprocessing"
   ]
  },
  {
   "cell_type": "code",
   "execution_count": 2,
   "id": "c8777054",
   "metadata": {},
   "outputs": [],
   "source": [
    "# Set up logging level\n",
    "logger = logging.getLogger()\n",
    "handler = logging.StreamHandler(sys.stdout)\n",
    "formatter = logging.Formatter('%(name)s - %(levelname)s - %(message)s')\n",
    "handler.setFormatter(formatter)\n",
    "logger.addHandler(handler)\n",
    "logger.setLevel(logging.DEBUG)"
   ]
  },
  {
   "cell_type": "code",
   "execution_count": 3,
   "id": "ea7e24e2",
   "metadata": {},
   "outputs": [],
   "source": [
    "# Set date to process\n",
    "date = \"20200929\""
   ]
  },
  {
   "cell_type": "code",
   "execution_count": 4,
   "id": "1d168509",
   "metadata": {},
   "outputs": [
    {
     "name": "stdout",
     "output_type": "stream",
     "text": [
      "winterdrp.paths - DEBUG - Data contains 8 objects: ['dark', 'PGIRN20ekz', 'ZTF20aapcbmc', 'ZTF20abbplei', 'ZTF20abzoeiw', 'ZTF20aburywx', 'ZTF20abswdbg', 'ZTF18aczqzrj']\n",
      "winterdrp.preprocessing.bias - WARNING - No bias images provided. Proceeding without bias correction.\n",
      "winterdrp.preprocessing.dark - INFO - Found 30 dark frames\n",
      "winterdrp.preprocessing.dark - WARNING - No master bias found. No bias correction will be applied.\n",
      "winterdrp.preprocessing.dark - DEBUG - Reading dark 1/30\n",
      "winterdrp.preprocessing.dark - DEBUG - Reading dark 2/30\n",
      "winterdrp.preprocessing.dark - DEBUG - Reading dark 3/30\n",
      "winterdrp.preprocessing.dark - DEBUG - Reading dark 4/30\n",
      "winterdrp.preprocessing.dark - DEBUG - Reading dark 5/30\n",
      "winterdrp.preprocessing.dark - DEBUG - Reading dark 6/30\n",
      "winterdrp.preprocessing.dark - DEBUG - Reading dark 7/30\n",
      "winterdrp.preprocessing.dark - DEBUG - Reading dark 8/30\n",
      "winterdrp.preprocessing.dark - DEBUG - Reading dark 9/30\n",
      "winterdrp.preprocessing.dark - DEBUG - Reading dark 10/30\n",
      "winterdrp.preprocessing.dark - DEBUG - Reading dark 11/30\n",
      "winterdrp.preprocessing.dark - DEBUG - Reading dark 12/30\n",
      "winterdrp.preprocessing.dark - DEBUG - Reading dark 13/30\n",
      "winterdrp.preprocessing.dark - DEBUG - Reading dark 14/30\n",
      "winterdrp.preprocessing.dark - DEBUG - Reading dark 15/30\n",
      "winterdrp.preprocessing.dark - DEBUG - Reading dark 16/30\n",
      "winterdrp.preprocessing.dark - DEBUG - Reading dark 17/30\n",
      "winterdrp.preprocessing.dark - DEBUG - Reading dark 18/30\n",
      "winterdrp.preprocessing.dark - DEBUG - Reading dark 19/30\n",
      "winterdrp.preprocessing.dark - DEBUG - Reading dark 20/30\n",
      "winterdrp.preprocessing.dark - DEBUG - Reading dark 21/30\n",
      "winterdrp.preprocessing.dark - DEBUG - Reading dark 22/30\n",
      "winterdrp.preprocessing.dark - DEBUG - Reading dark 23/30\n",
      "winterdrp.preprocessing.dark - DEBUG - Reading dark 24/30\n",
      "winterdrp.preprocessing.dark - DEBUG - Reading dark 25/30\n",
      "winterdrp.preprocessing.dark - DEBUG - Reading dark 26/30\n",
      "winterdrp.preprocessing.dark - DEBUG - Reading dark 27/30\n",
      "winterdrp.preprocessing.dark - DEBUG - Reading dark 28/30\n",
      "winterdrp.preprocessing.dark - DEBUG - Reading dark 29/30\n",
      "winterdrp.preprocessing.dark - DEBUG - Reading dark 30/30\n",
      "winterdrp.preprocessing.dark - INFO - Median combining 30 darks\n",
      "winterdrp.preprocessing.dark - INFO - Saving stacked 'master dark' to /home/rdstein/scratch/data/WINTER/20200929/cals/master_dark_normed.fits\n",
      "winterdrp.preprocessing.flats - WARNING - No flat images provided. Proceeding without flat-fielding correction.\n"
     ]
    }
   ],
   "source": [
    "# if os.path.exists('%s/%s/masterBias.fits'%(args.d,args.outdir)) and not args.redo:\n",
    "#     logger.warn('Bias already exists. Rerun with --redo option')\n",
    "#     exit(0)\n",
    "\n",
    "preprocessing.make_calibration_images(date)\n",
    "# (object_list[\"bias\"], cal_dir=cal_dir)\n",
    "# preprocessing.make_master_dark(object_list[\"dark\"], cal_dir=cal_dir, norm=True)"
   ]
  },
  {
   "cell_type": "code",
   "execution_count": null,
   "id": "7ba7b89d",
   "metadata": {},
   "outputs": [],
   "source": []
  },
  {
   "cell_type": "code",
   "execution_count": null,
   "id": "2ff73e5d",
   "metadata": {},
   "outputs": [],
   "source": []
  },
  {
   "cell_type": "code",
   "execution_count": null,
   "id": "6ed86d0d",
   "metadata": {},
   "outputs": [],
   "source": []
  }
 ],
 "metadata": {
  "kernelspec": {
   "display_name": "Python 3 (ipykernel)",
   "language": "python",
   "name": "python3"
  },
  "language_info": {
   "codemirror_mode": {
    "name": "ipython",
    "version": 3
   },
   "file_extension": ".py",
   "mimetype": "text/x-python",
   "name": "python",
   "nbconvert_exporter": "python",
   "pygments_lexer": "ipython3",
   "version": "3.9.7"
  }
 },
 "nbformat": 4,
 "nbformat_minor": 5
}
